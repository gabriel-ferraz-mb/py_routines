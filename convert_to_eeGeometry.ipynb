{
 "cells": [
  {
   "cell_type": "code",
   "execution_count": 6,
   "id": "1e0cc1d8-b59c-4061-a31f-695098669b1c",
   "metadata": {},
   "outputs": [],
   "source": [
    "##Esse código converte kml, cvs e shp em ee.Geometry\n",
    "\n",
    "\n",
    "import ee\n",
    "\n",
    "\n",
    "ee.Initialize()  \n",
    "\n",
    "import eemont, geemap\n",
    "\n",
    "\n",
    "import geopandas as gpd\n",
    "import pandas as pd\n",
    "from geopandas import GeoDataFrame\n",
    "from shapely.geometry import Point,Polygon\n",
    "\n",
    "\n",
    "\n",
    "import numpy as np\n",
    "from functools import reduce"
   ]
  },
  {
   "cell_type": "markdown",
   "id": "33c61694-617f-4d90-b331-3974e517da9a",
   "metadata": {},
   "source": [
    "### *** Leitura e apresentação do formato KML *** "
   ]
  },
  {
   "cell_type": "code",
   "execution_count": 7,
   "id": "e87536df-ff2e-4b52-bd91-a1da27a901ae",
   "metadata": {},
   "outputs": [
    {
     "name": "stdout",
     "output_type": "stream",
     "text": [
      "done\n"
     ]
    }
   ],
   "source": [
    "gpd.io.file.fiona.drvsupport.supported_drivers['KML'] = 'rw'\n",
    "gdf = gpd.read_file('C:\\\\Users\\\\jabre\\\\Documents\\\\merx\\\\merx\\\\Croquis\\\\coordenadas_4160671_1.kml', encoding=\"utf-8\")\n",
    "g = [i for i in gdf.geometry]\n",
    "features=[]\n",
    "\n",
    "for i in range(len(g)):\n",
    "                g = [i for i in gdf.geometry]\n",
    "                x,y = g[i].exterior.coords.xy\n",
    "                cords = np.dstack((x,y)).tolist()\n",
    "\n",
    "                g=ee.Geometry.Polygon(cords)\n",
    "                feature = ee.Feature(g)\n",
    "                features.append(feature)\n",
    "                print(\"done\")\n",
    "\n",
    "                ee_object = ee.FeatureCollection(features)\n",
    "\n",
    "CAR =ee_object"
   ]
  },
  {
   "cell_type": "code",
   "execution_count": 8,
   "id": "512d1848-0ae4-473d-a270-22eaf39e8675",
   "metadata": {},
   "outputs": [
    {
     "data": {
      "application/vnd.jupyter.widget-view+json": {
       "model_id": "651ca4576e584d26911d3efc350fbb96",
       "version_major": 2,
       "version_minor": 0
      },
      "text/plain": [
       "Map(center=[-24.51121086303618, -53.948645031752314], controls=(WidgetControl(options=['position', 'transparen…"
      ]
     },
     "execution_count": 8,
     "metadata": {},
     "output_type": "execute_result"
    }
   ],
   "source": [
    "##LEMBRAR DE adicionar máscara de agricultura antes de selecionar o ponto\n",
    "lat_long = CAR.geometry().centroid()\n",
    "\n",
    "start_date = '2019-01-01'\n",
    "end_date = '2022-09-11'\n",
    "\n",
    "######################## NDVI - MAPAS ########################\n",
    "\n",
    "\n",
    "S2_out = ee.ImageCollection('COPERNICUS/S2_SR').spectralIndices(['NDVI']).filterBounds(CAR).filterDate('2021-10-01', '2021-11-01').maskClouds(prob = 70).mean().select('NDVI').clip(CAR)        \n",
    "S2_nov = ee.ImageCollection('COPERNICUS/S2_SR').spectralIndices(['NDVI']).filterBounds(CAR).filterDate('2021-11-01', '2021-12-01').maskClouds(prob = 70).mean().select('NDVI').clip(CAR)\n",
    "S2_dez = ee.ImageCollection('COPERNICUS/S2_SR').spectralIndices(['NDVI']).filterBounds(CAR).filterDate('2021-12-01', '2022-01-01').maskClouds(prob = 70).mean().select('NDVI').clip(CAR)\n",
    "S2_jan = ee.ImageCollection('COPERNICUS/S2_SR').spectralIndices(['NDVI']).filterBounds(CAR).filterDate('2022-01-01', '2022-02-01').maskClouds(prob = 70).mean().select('NDVI').clip(CAR)\n",
    "S2_fev = ee.ImageCollection('COPERNICUS/S2_SR').spectralIndices(['NDVI']).filterBounds(CAR).filterDate('2022-02-01', '2022-03-01').maskClouds(prob = 70).mean().select('NDVI').clip(CAR)\n",
    "S2_mar = ee.ImageCollection('COPERNICUS/S2_SR').spectralIndices(['NDVI']).filterBounds(CAR).filterDate('2022-03-01', '2022-04-01').maskClouds(prob = 70).mean().select('NDVI').clip(CAR)\n",
    "S2_abr = ee.ImageCollection('COPERNICUS/S2_SR').spectralIndices(['NDVI']).filterBounds(CAR).filterDate('2022-04-01', '2022-05-01').maskClouds(prob = 70).mean().select('NDVI').clip(CAR)\n",
    "\n",
    "Mapa = geemap.Map()\n",
    "Mapa.add_basemap(\"SATELITE\")\n",
    "Mapa.centerObject(ee.FeatureCollection(CAR),12)\n",
    "\n",
    "Mapa.addLayer(S2_out.select('NDVI'), {'min':0,'max':0.8,'palette':['red', 'blue', 'green','yellow']}, \"NDVI-out\")\n",
    "Mapa.addLayer(S2_nov.select('NDVI'), {'min':0,'max':0.8,'palette':['red', 'blue', 'green','yellow']}, \"NDVI-nov\")\n",
    "Mapa.addLayer(S2_dez.select('NDVI'), {'min':0,'max':0.8,'palette':['red', 'blue', 'green','yellow']}, \"NDVI-dez\")\n",
    "Mapa.addLayer(S2_jan.select('NDVI'), {'min':0,'max':0.8,'palette':['red', 'blue', 'green','yellow']}, \"NDVI-jan\")\n",
    "Mapa.addLayer(S2_fev.select('NDVI'), {'min':0,'max':0.8,'palette':['red', 'blue', 'green','yellow']}, \"NDVI-fev\")\n",
    "Mapa.addLayer(S2_mar.select('NDVI'), {'min':0,'max':0.8,'palette':['red', 'blue', 'green','yellow']}, \"NDVI-marco\")\n",
    "Mapa.addLayer(S2_abr.select('NDVI'), {'min':0,'max':0.8,'palette':['red', 'blue', 'green','yellow']}, \"NDVI-abril\")\n",
    "\n",
    "\n",
    "Mapa\n",
    "\n"
   ]
  },
  {
   "cell_type": "markdown",
   "id": "ace4c810-f7ae-4910-aec9-ba92d62abb89",
   "metadata": {},
   "source": [
    "### *** Leitura e apresentação dos formato SHP e CSV *** "
   ]
  },
  {
   "cell_type": "code",
   "execution_count": 4,
   "id": "abf5e140-d91e-4d01-84af-2031b471458e",
   "metadata": {},
   "outputs": [],
   "source": [
    "#Feature to EE\n",
    "def feature2ee(file):\n",
    "    \n",
    "    #Exception handler\n",
    "    try:\n",
    "        \n",
    "        #check if the file is shapefile or CSV\n",
    "        if file.endswith('.shp'):\n",
    "            gdf = gpd.read_file(file, encoding=\"utf-8\")\n",
    "            g = [i for i in gdf.geometry]\n",
    "            features=[]\n",
    "            \n",
    "            \n",
    "            #for Polygon geo data type\n",
    "            if (gdf.geom_type[0] == 'Polygon'):\n",
    "                for i in range(len(g)):\n",
    "                    g = [i for i in gdf.geometry]\n",
    "                    x,y = g[i].exterior.coords.xy\n",
    "                    cords = np.dstack((x,y)).tolist()\n",
    "\n",
    "                    g=ee.Geometry.Polygon(cords)\n",
    "                    feature = ee.Feature(g)\n",
    "                    features.append(feature)\n",
    "                print(\"done\")\n",
    "\n",
    "                ee_object = ee.FeatureCollection(features)\n",
    "                \n",
    "                return ee_object\n",
    "            \n",
    "                \n",
    "            #for LineString geo data type   \n",
    "            elif (gdf.geom_type[0] == 'LineString'):\n",
    "                for i in range(len(g)):\n",
    "                    g = [i for i in gdf.geometry]\n",
    "                    x,y = g[i].exterior.coords.xy\n",
    "                    cords = np.dstack((x,y)).tolist()\n",
    "                    double_list = reduce(lambda x,y: x+y, cords)\n",
    "\n",
    "                    g=ee.Geometry.LineString(double_list)\n",
    "                    feature = ee.Feature(g)\n",
    "                    features.append(feature)\n",
    "                print(\"done\")\n",
    "\n",
    "                ee_object = ee.FeatureCollection(features)\n",
    "                \n",
    "                return ee_object\n",
    "            \n",
    "            \n",
    "            #for Point geo data type\n",
    "            elif (gdf.geom_type[0] == 'Point'):\n",
    "                for i in range(len(g)):\n",
    "                    g = [i for i in gdf.geometry]\n",
    "                    x,y = g[i].exterior.coords.xy\n",
    "                    cords = np.dstack((x,y)).tolist()\n",
    "                    double_list = reduce(lambda x,y: x+y, cords)\n",
    "                    single_list = reduce(lambda x,y: x+y, double_list)\n",
    "                    \n",
    "                    g=ee.Geometry.Point(single_list)\n",
    "                    feature = ee.Feature(g)\n",
    "                    features.append(feature)\n",
    "                print(\"done\")\n",
    "\n",
    "                ee_object = ee.FeatureCollection(features)\n",
    "                \n",
    "                return ee_object\n",
    "            \n",
    "            \n",
    "        #check if the file is shapefile or CSV\n",
    "        #for CSV we need to have file with X and Y\n",
    "        elif file.endswith('.csv'):\n",
    "            df = pd.read_csv(file)\n",
    "            features=[]\n",
    "            for i in range(df.shape[0]):\n",
    "                x,y = df.x[i],df.y[i]\n",
    "                latlong =[x,y]\n",
    "                g=ee.Geometry.Point(latlong) \n",
    "                feature = ee.Feature(g)\n",
    "                features.append(feature)\n",
    "            print(\"done\")\n",
    "                \n",
    "            ee_object = ee.FeatureCollection(features)\n",
    "            return ee_object\n",
    "            \n",
    "        \n",
    "    except:\n",
    "        \n",
    "        print(\"Wrong file format\")\n",
    "\n"
   ]
  },
  {
   "cell_type": "code",
   "execution_count": 5,
   "id": "1004d1e1-ae1e-4332-a258-cc5e7f3502dc",
   "metadata": {},
   "outputs": [
    {
     "name": "stdout",
     "output_type": "stream",
     "text": [
      "done\n"
     ]
    }
   ],
   "source": [
    "#shapefile\n",
    "fp =  \"C:\\\\Users\\\\jabre\\\\Downloads\\\\shape\\\\to.shp\"\n",
    "\n",
    "#call function\n",
    "polygon = feature2ee(fp)"
   ]
  },
  {
   "cell_type": "code",
   "execution_count": 10,
   "id": "54755723-c26a-4970-b753-010cd8c7caaf",
   "metadata": {},
   "outputs": [
    {
     "data": {
      "application/vnd.jupyter.widget-view+json": {
       "model_id": "6e19ff48cd7d4bf6abe64da48da22725",
       "version_major": 2,
       "version_minor": 0
      },
      "text/plain": [
       "Map(center=[-10.116651137546993, -48.30585539699571], controls=(WidgetControl(options=['position', 'transparen…"
      ]
     },
     "execution_count": 10,
     "metadata": {},
     "output_type": "execute_result"
    }
   ],
   "source": [
    "CAR = polygon\n",
    "\n",
    "lat_long = CAR.geometry().centroid()\n",
    "\n",
    "start_date = '2019-01-01'\n",
    "end_date = '2022-09-11'\n",
    "\n",
    "######################## NDVI - MAPAS ########################\n",
    "\n",
    "\n",
    "S2_out = ee.ImageCollection('COPERNICUS/S2_SR').spectralIndices(['NDVI']).filterBounds(CAR).filterDate('2021-10-01', '2021-11-01').maskClouds(prob = 70).mean().select('NDVI').clip(CAR)        \n",
    "S2_nov = ee.ImageCollection('COPERNICUS/S2_SR').spectralIndices(['NDVI']).filterBounds(CAR).filterDate('2021-11-01', '2021-12-01').maskClouds(prob = 70).mean().select('NDVI').clip(CAR)\n",
    "S2_dez = ee.ImageCollection('COPERNICUS/S2_SR').spectralIndices(['NDVI']).filterBounds(CAR).filterDate('2021-12-01', '2022-01-01').maskClouds(prob = 70).mean().select('NDVI').clip(CAR)\n",
    "S2_jan = ee.ImageCollection('COPERNICUS/S2_SR').spectralIndices(['NDVI']).filterBounds(CAR).filterDate('2022-01-01', '2022-02-01').maskClouds(prob = 70).mean().select('NDVI').clip(CAR)\n",
    "S2_fev = ee.ImageCollection('COPERNICUS/S2_SR').spectralIndices(['NDVI']).filterBounds(CAR).filterDate('2022-02-01', '2022-03-01').maskClouds(prob = 70).mean().select('NDVI').clip(CAR)\n",
    "S2_mar = ee.ImageCollection('COPERNICUS/S2_SR').spectralIndices(['NDVI']).filterBounds(CAR).filterDate('2022-03-01', '2022-04-01').maskClouds(prob = 70).mean().select('NDVI').clip(CAR)\n",
    "S2_abr = ee.ImageCollection('COPERNICUS/S2_SR').spectralIndices(['NDVI']).filterBounds(CAR).filterDate('2022-04-01', '2022-05-01').maskClouds(prob = 70).mean().select('NDVI').clip(CAR)\n",
    "\n",
    "Mapa = geemap.Map()\n",
    "Mapa.add_basemap(\"SATELITE\")\n",
    "Mapa.centerObject(ee.FeatureCollection(CAR),12)\n",
    "\n",
    "Mapa.addLayer(S2_out.select('NDVI'), {'min':0,'max':0.8,'palette':['red', 'blue', 'green','yellow']}, \"NDVI-out\")\n",
    "Mapa.addLayer(S2_nov.select('NDVI'), {'min':0,'max':0.8,'palette':['red', 'blue', 'green','yellow']}, \"NDVI-nov\")\n",
    "Mapa.addLayer(S2_dez.select('NDVI'), {'min':0,'max':0.8,'palette':['red', 'blue', 'green','yellow']}, \"NDVI-dez\")\n",
    "Mapa.addLayer(S2_jan.select('NDVI'), {'min':0,'max':0.8,'palette':['red', 'blue', 'green','yellow']}, \"NDVI-jan\")\n",
    "Mapa.addLayer(S2_fev.select('NDVI'), {'min':0,'max':0.8,'palette':['red', 'blue', 'green','yellow']}, \"NDVI-fev\")\n",
    "Mapa.addLayer(S2_mar.select('NDVI'), {'min':0,'max':0.8,'palette':['red', 'blue', 'green','yellow']}, \"NDVI-marco\")\n",
    "Mapa.addLayer(S2_abr.select('NDVI'), {'min':0,'max':0.8,'palette':['red', 'blue', 'green','yellow']}, \"NDVI-abril\")\n",
    "\n",
    "Mapa"
   ]
  }
 ],
 "metadata": {
  "kernelspec": {
   "display_name": "Python 3 (ipykernel)",
   "language": "python",
   "name": "python3"
  },
  "language_info": {
   "codemirror_mode": {
    "name": "ipython",
    "version": 3
   },
   "file_extension": ".py",
   "mimetype": "text/x-python",
   "name": "python",
   "nbconvert_exporter": "python",
   "pygments_lexer": "ipython3",
   "version": "3.9.13"
  },
  "vscode": {
   "interpreter": {
    "hash": "d39e4f5d318674bf072175420a8a4f000d6ac61bf43ee255b8fdc9a680ea8d6a"
   }
  }
 },
 "nbformat": 4,
 "nbformat_minor": 5
}
