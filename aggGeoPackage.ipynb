{
 "cells": [
  {
   "cell_type": "code",
   "execution_count": 28,
   "id": "f445233e",
   "metadata": {},
   "outputs": [],
   "source": [
    "import fiona\n",
    "import geopandas as gpd\n",
    "import pandas as pd\n",
    "from geocube.api.core import make_geocube\n",
    "from geocube.rasterize import rasterize_image\n",
    "from functools import partial\n",
    "from rasterio.enums import MergeAlg\n",
    "from pyproj import CRS\n",
    "import sys"
   ]
  },
  {
   "cell_type": "code",
   "execution_count": 2,
   "id": "33d7ddbc",
   "metadata": {},
   "outputs": [],
   "source": [
    "ufs = [ \n",
    "'AP', \n",
    "'AM', \n",
    "'BA', \n",
    "'CE', \n",
    "'ES', \n",
    "'GO',\n",
    "'MA', \n",
    "'MT', \n",
    "'MS', \n",
    "'MG', \n",
    "'PA', \n",
    "'PB', \n",
    "'PR', \n",
    "'PE', \n",
    "'PI',\n",
    "'RJ',\n",
    "'RN',\n",
    "'RS',\n",
    "'RO',\n",
    "'RR',\n",
    "'SC',\n",
    "'SP',\n",
    "'SE',\n",
    "'TO'\n",
    "]"
   ]
  },
  {
   "cell_type": "code",
   "execution_count": 3,
   "id": "1b468e69",
   "metadata": {},
   "outputs": [],
   "source": [
    "gpkgList = []\n",
    "for uf in ufs:\n",
    "    layer = gpd.read_file(\"C:/Projetos/tmp/result/AREA_CONSOLIDADA_{0}.gpkg\".format(uf))\n",
    "    gpkgList.append(layer)"
   ]
  },
  {
   "cell_type": "code",
   "execution_count": 4,
   "id": "01877210",
   "metadata": {},
   "outputs": [],
   "source": [
    "rdf = gpd.GeoDataFrame(pd.concat(gpkgList, ignore_index=True) )"
   ]
  },
  {
   "cell_type": "code",
   "execution_count": 26,
   "id": "3ad11051",
   "metadata": {},
   "outputs": [],
   "source": [
    "s_rdf = rdf.simplify(100)"
   ]
  },
  {
   "cell_type": "code",
   "execution_count": 30,
   "id": "24ed56ce",
   "metadata": {},
   "outputs": [],
   "source": [
    "ip = gpd.GeoDataFrame(geometry = s_rdf)"
   ]
  },
  {
   "cell_type": "code",
   "execution_count": 34,
   "id": "75618fff",
   "metadata": {},
   "outputs": [],
   "source": [
    "ip.to_file(r'C:\\Projetos\\tmp\\brasil_ac_shapefile.shp')"
   ]
  },
  {
   "cell_type": "code",
   "execution_count": null,
   "id": "c1a35e0b",
   "metadata": {},
   "outputs": [],
   "source": []
  }
 ],
 "metadata": {
  "kernelspec": {
   "display_name": "Python 3 (ipykernel)",
   "language": "python",
   "name": "python3"
  },
  "language_info": {
   "codemirror_mode": {
    "name": "ipython",
    "version": 3
   },
   "file_extension": ".py",
   "mimetype": "text/x-python",
   "name": "python",
   "nbconvert_exporter": "python",
   "pygments_lexer": "ipython3",
   "version": "3.9.13"
  }
 },
 "nbformat": 4,
 "nbformat_minor": 5
}
